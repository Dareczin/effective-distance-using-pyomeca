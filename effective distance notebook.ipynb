{
 "cells": [
  {
   "cell_type": "code",
   "execution_count": 204,
   "metadata": {},
   "outputs": [],
   "source": [
    "import numpy as np\n",
    "import pandas as pd\n",
    "from pyomeca import Markers3d\n",
    "from scipy.signal import find_peaks\n",
    "import pyomeca\n",
    "#data = Markers3d.from_c3d()\n",
    "data = pyomeca.Markers3d.from_c3d('B0346_proste_pilka_P.c3d')"
   ]
  },
  {
   "cell_type": "code",
   "execution_count": 205,
   "metadata": {},
   "outputs": [
    {
     "name": "stdout",
     "output_type": "stream",
     "text": [
      "Frame one is 0 and last frame is 3099\n",
      "There is 192 markers.\n",
      "Marker names are : ['Pilka:P1', 'B0346:LFHD', 'B0346:RFHD', 'B0346:LBHD', 'B0346:RBHD', 'B0346:C7', 'B0346:T10', 'B0346:CLAV', 'B0346:RBAK', 'B0346:LSHO', 'B0346:LUPA', 'B0346:LELB', 'B0346:LFRM', 'B0346:LWRA', 'B0346:LWRB', 'B0346:LFIN', 'B0346:RSHO', 'B0346:RUPA', 'B0346:RELB', 'B0346:RFRM', 'B0346:RWRA', 'B0346:RWRB', 'B0346:RFIN', 'B0346:LASI', 'B0346:RASI', 'B0346:LPSI', 'B0346:RPSI', 'B0346:LTHI', 'B0346:LKNE', 'B0346:LTIB', 'B0346:LANK', 'B0346:LHEE', 'B0346:LTOE', 'B0346:RTHI', 'B0346:RKNE', 'B0346:RTIB', 'B0346:RANK', 'B0346:RHEE', 'B0346:RTOE', 'B0346:PELO', 'B0346:PELA', 'B0346:PELL', 'B0346:PELP', 'B0346:LFEO', 'B0346:LFEA', 'B0346:LFEL', 'B0346:LFEP', 'B0346:LTIO', 'B0346:LTIA', 'B0346:LTIL', 'B0346:LTIP', 'B0346:LFOO', 'B0346:LFOA', 'B0346:LFOL', 'B0346:LFOP', 'B0346:LTOO', 'B0346:LTOA', 'B0346:LTOL', 'B0346:LTOP', 'B0346:RFEO', 'B0346:RFEA', 'B0346:RFEL', 'B0346:RFEP', 'B0346:RTIO', 'B0346:RTIA', 'B0346:RTIL', 'B0346:RTIP', 'B0346:RFOO', 'B0346:RFOA', 'B0346:RFOL', 'B0346:RFOP', 'B0346:RTOO', 'B0346:RTOA', 'B0346:RTOL', 'B0346:RTOP', 'B0346:HEDO', 'B0346:HEDA', 'B0346:HEDL', 'B0346:HEDP', 'B0346:LCLO', 'B0346:LCLA', 'B0346:LCLL', 'B0346:LCLP', 'B0346:RCLO', 'B0346:RCLA', 'B0346:RCLL', 'B0346:RCLP', 'B0346:TRXO', 'B0346:TRXA', 'B0346:TRXL', 'B0346:TRXP', 'B0346:LHUO', 'B0346:LHUA', 'B0346:LHUL', 'B0346:LHUP', 'B0346:LRAO', 'B0346:LRAA', 'B0346:LRAL', 'B0346:LRAP', 'B0346:LHNO', 'B0346:LHNA', 'B0346:LHNL', 'B0346:LHNP', 'B0346:RHUO', 'B0346:RHUA', 'B0346:RHUL', 'B0346:RHUP', 'B0346:RRAO', 'B0346:RRAA', 'B0346:RRAL', 'B0346:RRAP', 'B0346:RHNO', 'B0346:RHNA', 'B0346:RHNL', 'B0346:RHNP', 'B0346:STRN', 'B0346:LHipAngles', 'B0346:LKneeAngles', 'B0346:LAbsAnkleAngle', 'B0346:LAnkleAngles', 'B0346:RHipAngles', 'B0346:RKneeAngles', 'B0346:RAnkleAngles', 'B0346:RAbsAnkleAngle', 'B0346:LPelvisAngles', 'B0346:RPelvisAngles', 'B0346:LFootProgressAngles', 'B0346:RFootProgressAngles', 'B0346:RNeckAngles', 'B0346:LNeckAngles', 'B0346:RSpineAngles', 'B0346:LSpineAngles', 'B0346:LShoulderAngles', 'B0346:LElbowAngles', 'B0346:LWristAngles', 'B0346:RShoulderAngles', 'B0346:RElbowAngles', 'B0346:RWristAngles', 'B0346:RThoraxAngles', 'B0346:LThoraxAngles', 'B0346:RHeadAngles', 'B0346:LHeadAngles', 'B0346:LHipPower', 'B0346:LKneePower', 'B0346:LAnklePower', 'B0346:RHipPower', 'B0346:RKneePower', 'B0346:RAnklePower', 'B0346:LWaistPower', 'B0346:RWaistPower', 'B0346:LNeckPower', 'B0346:RNeckPower', 'B0346:LShoulderPower', 'B0346:RShoulderPower', 'B0346:LElbowPower', 'B0346:RElbowPower', 'B0346:LWristPower', 'B0346:RWristPower', 'B0346:LAnkleForce', 'B0346:RAnkleForce', 'B0346:RKneeForce', 'B0346:LKneeForce', 'B0346:RHipForce', 'B0346:LHipForce', 'B0346:LWaistForce', 'B0346:RWaistForce', 'B0346:LNeckForce', 'B0346:RNeckForce', 'B0346:LShoulderForce', 'B0346:RShoulderForce', 'B0346:LElbowForce', 'B0346:RElbowForce', 'B0346:LWristForce', 'B0346:RWristForce', 'B0346:LAnkleMoment', 'B0346:RAnkleMoment', 'B0346:RKneeMoment', 'B0346:LKneeMoment', 'B0346:RHipMoment', 'B0346:LHipMoment', 'B0346:LWaistMoment', 'B0346:RWaistMoment', 'B0346:LNeckMoment', 'B0346:RNeckMoment', 'B0346:LShoulderMoment', 'B0346:RShoulderMoment', 'B0346:LElbowMoment', 'B0346:RElbowMoment', 'B0346:LWristMoment', 'B0346:RWristMoment', 'B0346:CentreOfMass', 'B0346:CentreOfMassFloor']\n"
     ]
    }
   ],
   "source": [
    "markers = pyomeca.Markers3d.from_c3d('B0346_proste_pilka_P.c3d')\n",
    "print(f\"Frame one is {markers.get_first_frame} and last frame is {markers.get_last_frame}\")\n",
    "print(f\"There is {markers.get_num_markers()} markers.\")\n",
    "print(f\"Marker names are : {markers.get_labels}\")"
   ]
  },
  {
   "cell_type": "code",
   "execution_count": 206,
   "metadata": {},
   "outputs": [
    {
     "name": "stdout",
     "output_type": "stream",
     "text": [
      "[[[1003.25752581 1003.31227441 1003.26019561 ...  932.27081497\n",
      "    930.79044093  929.18333992]]]\n"
     ]
    },
    {
     "data": {
      "text/plain": [
       "(1, 1, 3100)"
      ]
     },
     "execution_count": 206,
     "metadata": {},
     "output_type": "execute_result"
    }
   ],
   "source": [
    "distance = data['B0346:RFIN'] - data['Pilka:P1']  # You can also reference the markers using data[:, idx, :] where idx is the number of the marker\n",
    "norm_distance = distance.norm()\n",
    "print(norm_distance)\n",
    "norm_distance.shape"
   ]
  },
  {
   "cell_type": "code",
   "execution_count": 207,
   "metadata": {},
   "outputs": [
    {
     "data": {
      "text/plain": [
       "<matplotlib.axes._subplots.AxesSubplot at 0x24bcf4d3ac8>"
      ]
     },
     "execution_count": 207,
     "metadata": {},
     "output_type": "execute_result"
    },
    {
     "data": {
      "image/png": "[encoded data removed]",
      "text/plain": [
       "<Figure size 432x288 with 1 Axes>"
      ]
     },
     "metadata": {
      "needs_background": "light"
     },
     "output_type": "display_data"
    }
   ],
   "source": [
    "dfd = norm_distance.reshape(3100,1)\n",
    "dfd1 = pd.DataFrame(dfd)\n",
    "dfd1 = dfd1/1000\n",
    "dfd1\n",
    "dfd1.plot()\n",
    "#dystans efektywny\n",
    "\n",
    "\n"
   ]
  },
  {
   "cell_type": "code",
   "execution_count": 208,
   "metadata": {},
   "outputs": [
    {
     "data": {
      "text/html": [
       "<div>\n",
       "<style scoped>\n",
       "    .dataframe tbody tr th:only-of-type {\n",
       "        vertical-align: middle;\n",
       "    }\n",
       "\n",
       "    .dataframe tbody tr th {\n",
       "        vertical-align: top;\n",
       "    }\n",
       "\n",
       "    .dataframe thead th {\n",
       "        text-align: right;\n",
       "    }\n",
       "</style>\n",
       "<table border=\"1\" class=\"dataframe\">\n",
       "  <thead>\n",
       "    <tr style=\"text-align: right;\">\n",
       "      <th></th>\n",
       "      <th>0</th>\n",
       "    </tr>\n",
       "  </thead>\n",
       "  <tbody>\n",
       "    <tr>\n",
       "      <th>0</th>\n",
       "      <td>NaN</td>\n",
       "    </tr>\n",
       "    <tr>\n",
       "      <th>1</th>\n",
       "      <td>0.094739</td>\n",
       "    </tr>\n",
       "    <tr>\n",
       "      <th>2</th>\n",
       "      <td>0.113461</td>\n",
       "    </tr>\n",
       "    <tr>\n",
       "      <th>3</th>\n",
       "      <td>0.136858</td>\n",
       "    </tr>\n",
       "    <tr>\n",
       "      <th>4</th>\n",
       "      <td>0.162992</td>\n",
       "    </tr>\n",
       "    <tr>\n",
       "      <th>...</th>\n",
       "      <td>...</td>\n",
       "    </tr>\n",
       "    <tr>\n",
       "      <th>3095</th>\n",
       "      <td>0.028821</td>\n",
       "    </tr>\n",
       "    <tr>\n",
       "      <th>3096</th>\n",
       "      <td>0.026164</td>\n",
       "    </tr>\n",
       "    <tr>\n",
       "      <th>3097</th>\n",
       "      <td>0.023195</td>\n",
       "    </tr>\n",
       "    <tr>\n",
       "      <th>3098</th>\n",
       "      <td>0.020354</td>\n",
       "    </tr>\n",
       "    <tr>\n",
       "      <th>3099</th>\n",
       "      <td>NaN</td>\n",
       "    </tr>\n",
       "  </tbody>\n",
       "</table>\n",
       "<p>3100 rows × 1 columns</p>\n",
       "</div>"
      ],
      "text/plain": [
       "             0\n",
       "0          NaN\n",
       "1     0.094739\n",
       "2     0.113461\n",
       "3     0.136858\n",
       "4     0.162992\n",
       "...        ...\n",
       "3095  0.028821\n",
       "3096  0.026164\n",
       "3097  0.023195\n",
       "3098  0.020354\n",
       "3099       NaN\n",
       "\n",
       "[3100 rows x 1 columns]"
      ]
     },
     "execution_count": 208,
     "metadata": {},
     "output_type": "execute_result"
    },
    {
     "data": {
      "image/png": "[encoded data removed]",
      "text/plain": [
       "<Figure size 720x288 with 1 Axes>"
      ]
     },
     "metadata": {
      "needs_background": "light"
     },
     "output_type": "display_data"
    }
   ],
   "source": [
    "v = (data[('B0346:RFIN')]/1000).derivative().norm()\n",
    "v.plot()\n",
    "v.shape\n",
    "vP = v.reshape(3100,1)\n",
    "vP = pd.DataFrame(vP)\n",
    "vP"
   ]
  },
  {
   "cell_type": "code",
   "execution_count": 209,
   "metadata": {},
   "outputs": [],
   "source": [
    "t = data.get_time_frames\n",
    "t.shape\n",
    "t = pd.DataFrame(t)\n"
   ]
  },
  {
   "cell_type": "code",
   "execution_count": 210,
   "metadata": {},
   "outputs": [
    {
     "data": {
      "text/html": [
       "<div>\n",
       "<style scoped>\n",
       "    .dataframe tbody tr th:only-of-type {\n",
       "        vertical-align: middle;\n",
       "    }\n",
       "\n",
       "    .dataframe tbody tr th {\n",
       "        vertical-align: top;\n",
       "    }\n",
       "\n",
       "    .dataframe thead th {\n",
       "        text-align: right;\n",
       "    }\n",
       "</style>\n",
       "<table border=\"1\" class=\"dataframe\">\n",
       "  <thead>\n",
       "    <tr style=\"text-align: right;\">\n",
       "      <th></th>\n",
       "      <th>0</th>\n",
       "    </tr>\n",
       "  </thead>\n",
       "  <tbody>\n",
       "    <tr>\n",
       "      <th>0</th>\n",
       "      <td>NaN</td>\n",
       "    </tr>\n",
       "    <tr>\n",
       "      <th>1</th>\n",
       "      <td>0.028204</td>\n",
       "    </tr>\n",
       "    <tr>\n",
       "      <th>2</th>\n",
       "      <td>0.029153</td>\n",
       "    </tr>\n",
       "    <tr>\n",
       "      <th>3</th>\n",
       "      <td>0.030183</td>\n",
       "    </tr>\n",
       "    <tr>\n",
       "      <th>4</th>\n",
       "      <td>0.031313</td>\n",
       "    </tr>\n",
       "    <tr>\n",
       "      <th>...</th>\n",
       "      <td>...</td>\n",
       "    </tr>\n",
       "    <tr>\n",
       "      <th>3095</th>\n",
       "      <td>0.639073</td>\n",
       "    </tr>\n",
       "    <tr>\n",
       "      <th>3096</th>\n",
       "      <td>0.639927</td>\n",
       "    </tr>\n",
       "    <tr>\n",
       "      <th>3097</th>\n",
       "      <td>0.641204</td>\n",
       "    </tr>\n",
       "    <tr>\n",
       "      <th>3098</th>\n",
       "      <td>0.643825</td>\n",
       "    </tr>\n",
       "    <tr>\n",
       "      <th>3099</th>\n",
       "      <td>NaN</td>\n",
       "    </tr>\n",
       "  </tbody>\n",
       "</table>\n",
       "<p>3100 rows × 1 columns</p>\n",
       "</div>"
      ],
      "text/plain": [
       "             0\n",
       "0          NaN\n",
       "1     0.028204\n",
       "2     0.029153\n",
       "3     0.030183\n",
       "4     0.031313\n",
       "...        ...\n",
       "3095  0.639073\n",
       "3096  0.639927\n",
       "3097  0.641204\n",
       "3098  0.643825\n",
       "3099       NaN\n",
       "\n",
       "[3100 rows x 1 columns]"
      ]
     },
     "execution_count": 210,
     "metadata": {},
     "output_type": "execute_result"
    },
    {
     "data": {
      "image/png": "[encoded data removed]",
      "text/plain": [
       "<Figure size 720x288 with 1 Axes>"
      ]
     },
     "metadata": {
      "needs_background": "light"
     },
     "output_type": "display_data"
    }
   ],
   "source": [
    "v1 = (data[('Pilka:P1')]/1000).derivative().norm()\n",
    "v1.plot()\n",
    "vB = v1.reshape(3100 ,1)\n",
    "vB = pd.DataFrame(vB)\n",
    "vB\n",
    "\n"
   ]
  },
  {
   "cell_type": "code",
   "execution_count": 211,
   "metadata": {},
   "outputs": [
    {
     "data": {
      "text/html": [
       "<div>\n",
       "<style scoped>\n",
       "    .dataframe tbody tr th:only-of-type {\n",
       "        vertical-align: middle;\n",
       "    }\n",
       "\n",
       "    .dataframe tbody tr th {\n",
       "        vertical-align: top;\n",
       "    }\n",
       "\n",
       "    .dataframe thead th {\n",
       "        text-align: right;\n",
       "    }\n",
       "</style>\n",
       "<table border=\"1\" class=\"dataframe\">\n",
       "  <thead>\n",
       "    <tr style=\"text-align: right;\">\n",
       "      <th></th>\n",
       "      <th>0</th>\n",
       "    </tr>\n",
       "  </thead>\n",
       "  <tbody>\n",
       "    <tr>\n",
       "      <th>0</th>\n",
       "      <td>NaN</td>\n",
       "    </tr>\n",
       "    <tr>\n",
       "      <th>1</th>\n",
       "      <td>0.086562</td>\n",
       "    </tr>\n",
       "    <tr>\n",
       "      <th>2</th>\n",
       "      <td>0.095500</td>\n",
       "    </tr>\n",
       "    <tr>\n",
       "      <th>3</th>\n",
       "      <td>0.104471</td>\n",
       "    </tr>\n",
       "    <tr>\n",
       "      <th>4</th>\n",
       "      <td>0.113472</td>\n",
       "    </tr>\n",
       "    <tr>\n",
       "      <th>...</th>\n",
       "      <td>...</td>\n",
       "    </tr>\n",
       "    <tr>\n",
       "      <th>3095</th>\n",
       "      <td>0.019348</td>\n",
       "    </tr>\n",
       "    <tr>\n",
       "      <th>3096</th>\n",
       "      <td>0.019962</td>\n",
       "    </tr>\n",
       "    <tr>\n",
       "      <th>3097</th>\n",
       "      <td>0.020623</td>\n",
       "    </tr>\n",
       "    <tr>\n",
       "      <th>3098</th>\n",
       "      <td>0.021313</td>\n",
       "    </tr>\n",
       "    <tr>\n",
       "      <th>3099</th>\n",
       "      <td>NaN</td>\n",
       "    </tr>\n",
       "  </tbody>\n",
       "</table>\n",
       "<p>3100 rows × 1 columns</p>\n",
       "</div>"
      ],
      "text/plain": [
       "             0\n",
       "0          NaN\n",
       "1     0.086562\n",
       "2     0.095500\n",
       "3     0.104471\n",
       "4     0.113472\n",
       "...        ...\n",
       "3095  0.019348\n",
       "3096  0.019962\n",
       "3097  0.020623\n",
       "3098  0.021313\n",
       "3099       NaN\n",
       "\n",
       "[3100 rows x 1 columns]"
      ]
     },
     "execution_count": 211,
     "metadata": {},
     "output_type": "execute_result"
    },
    {
     "data": {
      "image/png": "[encoded data removed]",
      "text/plain": [
       "<Figure size 720x288 with 1 Axes>"
      ]
     },
     "metadata": {
      "needs_background": "light"
     },
     "output_type": "display_data"
    }
   ],
   "source": [
    "v2 = (data[('B0346:RSHO')]/1000).derivative().norm()\n",
    "v2.plot()\n",
    "vSho = v2.reshape(3100 ,1)\n",
    "vSho = pd.DataFrame(vSho)\n",
    "vSho"
   ]
  },
  {
   "cell_type": "code",
   "execution_count": null,
   "metadata": {},
   "outputs": [],
   "source": []
  },
  {
   "cell_type": "code",
   "execution_count": 212,
   "metadata": {},
   "outputs": [
    {
     "data": {
      "text/html": [
       "<div>\n",
       "<style scoped>\n",
       "    .dataframe tbody tr th:only-of-type {\n",
       "        vertical-align: middle;\n",
       "    }\n",
       "\n",
       "    .dataframe tbody tr th {\n",
       "        vertical-align: top;\n",
       "    }\n",
       "\n",
       "    .dataframe thead th {\n",
       "        text-align: right;\n",
       "    }\n",
       "</style>\n",
       "<table border=\"1\" class=\"dataframe\">\n",
       "  <thead>\n",
       "    <tr style=\"text-align: right;\">\n",
       "      <th></th>\n",
       "      <th>t</th>\n",
       "      <th>vB</th>\n",
       "      <th>vP</th>\n",
       "      <th>dfd1</th>\n",
       "      <th>vSho</th>\n",
       "    </tr>\n",
       "  </thead>\n",
       "  <tbody>\n",
       "    <tr>\n",
       "      <th>0</th>\n",
       "      <td>0.000</td>\n",
       "      <td>NaN</td>\n",
       "      <td>NaN</td>\n",
       "      <td>1.003258</td>\n",
       "      <td>NaN</td>\n",
       "    </tr>\n",
       "    <tr>\n",
       "      <th>1</th>\n",
       "      <td>0.004</td>\n",
       "      <td>0.028204</td>\n",
       "      <td>0.094739</td>\n",
       "      <td>1.003312</td>\n",
       "      <td>0.086562</td>\n",
       "    </tr>\n",
       "    <tr>\n",
       "      <th>2</th>\n",
       "      <td>0.008</td>\n",
       "      <td>0.029153</td>\n",
       "      <td>0.113461</td>\n",
       "      <td>1.003260</td>\n",
       "      <td>0.095500</td>\n",
       "    </tr>\n",
       "    <tr>\n",
       "      <th>3</th>\n",
       "      <td>0.012</td>\n",
       "      <td>0.030183</td>\n",
       "      <td>0.136858</td>\n",
       "      <td>1.003101</td>\n",
       "      <td>0.104471</td>\n",
       "    </tr>\n",
       "    <tr>\n",
       "      <th>4</th>\n",
       "      <td>0.016</td>\n",
       "      <td>0.031313</td>\n",
       "      <td>0.162992</td>\n",
       "      <td>1.002834</td>\n",
       "      <td>0.113472</td>\n",
       "    </tr>\n",
       "    <tr>\n",
       "      <th>...</th>\n",
       "      <td>...</td>\n",
       "      <td>...</td>\n",
       "      <td>...</td>\n",
       "      <td>...</td>\n",
       "      <td>...</td>\n",
       "    </tr>\n",
       "    <tr>\n",
       "      <th>3095</th>\n",
       "      <td>12.380</td>\n",
       "      <td>0.639073</td>\n",
       "      <td>0.028821</td>\n",
       "      <td>0.934851</td>\n",
       "      <td>0.019348</td>\n",
       "    </tr>\n",
       "    <tr>\n",
       "      <th>3096</th>\n",
       "      <td>12.384</td>\n",
       "      <td>0.639927</td>\n",
       "      <td>0.026164</td>\n",
       "      <td>0.933625</td>\n",
       "      <td>0.019962</td>\n",
       "    </tr>\n",
       "    <tr>\n",
       "      <th>3097</th>\n",
       "      <td>12.388</td>\n",
       "      <td>0.641204</td>\n",
       "      <td>0.023195</td>\n",
       "      <td>0.932271</td>\n",
       "      <td>0.020623</td>\n",
       "    </tr>\n",
       "    <tr>\n",
       "      <th>3098</th>\n",
       "      <td>12.392</td>\n",
       "      <td>0.643825</td>\n",
       "      <td>0.020354</td>\n",
       "      <td>0.930790</td>\n",
       "      <td>0.021313</td>\n",
       "    </tr>\n",
       "    <tr>\n",
       "      <th>3099</th>\n",
       "      <td>12.396</td>\n",
       "      <td>NaN</td>\n",
       "      <td>NaN</td>\n",
       "      <td>0.929183</td>\n",
       "      <td>NaN</td>\n",
       "    </tr>\n",
       "  </tbody>\n",
       "</table>\n",
       "<p>3100 rows × 5 columns</p>\n",
       "</div>"
      ],
      "text/plain": [
       "           t        vB        vP      dfd1      vSho\n",
       "0      0.000       NaN       NaN  1.003258       NaN\n",
       "1      0.004  0.028204  0.094739  1.003312  0.086562\n",
       "2      0.008  0.029153  0.113461  1.003260  0.095500\n",
       "3      0.012  0.030183  0.136858  1.003101  0.104471\n",
       "4      0.016  0.031313  0.162992  1.002834  0.113472\n",
       "...      ...       ...       ...       ...       ...\n",
       "3095  12.380  0.639073  0.028821  0.934851  0.019348\n",
       "3096  12.384  0.639927  0.026164  0.933625  0.019962\n",
       "3097  12.388  0.641204  0.023195  0.932271  0.020623\n",
       "3098  12.392  0.643825  0.020354  0.930790  0.021313\n",
       "3099  12.396       NaN       NaN  0.929183       NaN\n",
       "\n",
       "[3100 rows x 5 columns]"
      ]
     },
     "execution_count": 212,
     "metadata": {},
     "output_type": "execute_result"
    }
   ],
   "source": [
    "df_all_cols = pd.concat([t, vB, vP, dfd1, vSho], axis = 1)\n",
    "df_all_cols.columns =['t', 'vB', 'vP', 'dfd1', 'vSho']\n",
    "df_all_cols\n",
    "\n"
   ]
  },
  {
   "cell_type": "code",
   "execution_count": 213,
   "metadata": {},
   "outputs": [
    {
     "data": {
      "image/png": "[encoded data removed]",
      "text/plain": [
       "<Figure size 432x288 with 1 Axes>"
      ]
     },
     "metadata": {
      "needs_background": "light"
     },
     "output_type": "display_data"
    }
   ],
   "source": [
    "import matplotlib.pyplot as plt\n",
    "peaks, _ = find_peaks(df_all_cols['vP'], height=6.0)\n",
    "plt.plot(df_all_cols['vP'])\n",
    "plt.plot(peaks, df_all_cols['vP'][peaks], \"x\")\n",
    "plt.show()"
   ]
  },
  {
   "cell_type": "code",
   "execution_count": null,
   "metadata": {},
   "outputs": [],
   "source": []
  },
  {
   "cell_type": "code",
   "execution_count": 214,
   "metadata": {},
   "outputs": [
    {
     "data": {
      "text/html": [
       "<div>\n",
       "<style scoped>\n",
       "    .dataframe tbody tr th:only-of-type {\n",
       "        vertical-align: middle;\n",
       "    }\n",
       "\n",
       "    .dataframe tbody tr th {\n",
       "        vertical-align: top;\n",
       "    }\n",
       "\n",
       "    .dataframe thead th {\n",
       "        text-align: right;\n",
       "    }\n",
       "</style>\n",
       "<table border=\"1\" class=\"dataframe\">\n",
       "  <thead>\n",
       "    <tr style=\"text-align: right;\">\n",
       "      <th></th>\n",
       "      <th>t</th>\n",
       "      <th>vP</th>\n",
       "      <th>dfd1</th>\n",
       "    </tr>\n",
       "  </thead>\n",
       "  <tbody>\n",
       "    <tr>\n",
       "      <th>188</th>\n",
       "      <td>0.752</td>\n",
       "      <td>8.037903</td>\n",
       "      <td>0.206053</td>\n",
       "    </tr>\n",
       "    <tr>\n",
       "      <th>1620</th>\n",
       "      <td>6.480</td>\n",
       "      <td>7.646659</td>\n",
       "      <td>0.200151</td>\n",
       "    </tr>\n",
       "    <tr>\n",
       "      <th>2015</th>\n",
       "      <td>8.060</td>\n",
       "      <td>8.671945</td>\n",
       "      <td>0.187596</td>\n",
       "    </tr>\n",
       "  </tbody>\n",
       "</table>\n",
       "</div>"
      ],
      "text/plain": [
       "          t        vP      dfd1\n",
       "188   0.752  8.037903  0.206053\n",
       "1620  6.480  7.646659  0.200151\n",
       "2015  8.060  8.671945  0.187596"
      ]
     },
     "execution_count": 214,
     "metadata": {},
     "output_type": "execute_result"
    }
   ],
   "source": [
    "punch =  df_all_cols.iloc[peaks,:]\n",
    "punch[[\"t\", \"vP\", \"dfd1\", ]]"
   ]
  },
  {
   "cell_type": "code",
   "execution_count": 216,
   "metadata": {},
   "outputs": [
    {
     "data": {
      "image/png": "[encoded data removed]",
      "text/plain": [
       "<Figure size 432x288 with 1 Axes>"
      ]
     },
     "metadata": {
      "needs_background": "light"
     },
     "output_type": "display_data"
    }
   ],
   "source": [
    "peaks, _ = find_peaks(df_all_cols['vB'], height=7)\n",
    "plt.plot(df_all_cols['vB'])\n",
    "plt.plot(peaks, df_all_cols['vB'][peaks], \"x\")\n",
    "plt.show()\n"
   ]
  },
  {
   "cell_type": "code",
   "execution_count": 217,
   "metadata": {},
   "outputs": [
    {
     "data": {
      "text/html": [
       "<div>\n",
       "<style scoped>\n",
       "    .dataframe tbody tr th:only-of-type {\n",
       "        vertical-align: middle;\n",
       "    }\n",
       "\n",
       "    .dataframe tbody tr th {\n",
       "        vertical-align: top;\n",
       "    }\n",
       "\n",
       "    .dataframe thead th {\n",
       "        text-align: right;\n",
       "    }\n",
       "</style>\n",
       "<table border=\"1\" class=\"dataframe\">\n",
       "  <thead>\n",
       "    <tr style=\"text-align: right;\">\n",
       "      <th></th>\n",
       "      <th>t</th>\n",
       "      <th>vB</th>\n",
       "      <th>dfd1</th>\n",
       "    </tr>\n",
       "  </thead>\n",
       "  <tbody>\n",
       "    <tr>\n",
       "      <th>197</th>\n",
       "      <td>0.788</td>\n",
       "      <td>9.418794</td>\n",
       "      <td>0.093463</td>\n",
       "    </tr>\n",
       "    <tr>\n",
       "      <th>1629</th>\n",
       "      <td>6.516</td>\n",
       "      <td>7.882120</td>\n",
       "      <td>0.088159</td>\n",
       "    </tr>\n",
       "    <tr>\n",
       "      <th>2022</th>\n",
       "      <td>8.088</td>\n",
       "      <td>9.507837</td>\n",
       "      <td>0.080508</td>\n",
       "    </tr>\n",
       "  </tbody>\n",
       "</table>\n",
       "</div>"
      ],
      "text/plain": [
       "          t        vB      dfd1\n",
       "197   0.788  9.418794  0.093463\n",
       "1629  6.516  7.882120  0.088159\n",
       "2022  8.088  9.507837  0.080508"
      ]
     },
     "execution_count": 217,
     "metadata": {},
     "output_type": "execute_result"
    }
   ],
   "source": [
    "ball =  df_all_cols.iloc[peaks,:]\n",
    "ball[[\"t\", \"vB\", \"dfd1\"]]"
   ]
  },
  {
   "cell_type": "code",
   "execution_count": 15,
   "metadata": {},
   "outputs": [
    {
     "data": {
      "image/png": "[encoded data removed]",
      "text/plain": [
       "<Figure size 432x288 with 1 Axes>"
      ]
     },
     "metadata": {
      "needs_background": "light"
     },
     "output_type": "display_data"
    }
   ],
   "source": [
    "peaks, _ = find_peaks(df_all_cols['vSho'], height=1.4)\n",
    "plt.plot(df_all_cols['vSho'])\n",
    "plt.plot(peaks, df_all_cols['vSho'][peaks], \"x\")\n",
    "plt.show()"
   ]
  },
  {
   "cell_type": "code",
   "execution_count": 16,
   "metadata": {},
   "outputs": [
    {
     "data": {
      "text/html": [
       "<div>\n",
       "<style scoped>\n",
       "    .dataframe tbody tr th:only-of-type {\n",
       "        vertical-align: middle;\n",
       "    }\n",
       "\n",
       "    .dataframe tbody tr th {\n",
       "        vertical-align: top;\n",
       "    }\n",
       "\n",
       "    .dataframe thead th {\n",
       "        text-align: right;\n",
       "    }\n",
       "</style>\n",
       "<table border=\"1\" class=\"dataframe\">\n",
       "  <thead>\n",
       "    <tr style=\"text-align: right;\">\n",
       "      <th></th>\n",
       "      <th>t</th>\n",
       "      <th>vSho</th>\n",
       "    </tr>\n",
       "  </thead>\n",
       "  <tbody>\n",
       "    <tr>\n",
       "      <th>209</th>\n",
       "      <td>0.836</td>\n",
       "      <td>2.222447</td>\n",
       "    </tr>\n",
       "    <tr>\n",
       "      <th>730</th>\n",
       "      <td>2.920</td>\n",
       "      <td>1.454151</td>\n",
       "    </tr>\n",
       "    <tr>\n",
       "      <th>1243</th>\n",
       "      <td>4.972</td>\n",
       "      <td>2.340195</td>\n",
       "    </tr>\n",
       "  </tbody>\n",
       "</table>\n",
       "</div>"
      ],
      "text/plain": [
       "          t      vSho\n",
       "209   0.836  2.222447\n",
       "730   2.920  1.454151\n",
       "1243  4.972  2.340195"
      ]
     },
     "execution_count": 16,
     "metadata": {},
     "output_type": "execute_result"
    }
   ],
   "source": [
    "bark =  df_all_cols.iloc[peaks,:]\n",
    "bark[[\"t\", \"vSho\"]]"
   ]
  },
  {
   "cell_type": "code",
   "execution_count": 17,
   "metadata": {},
   "outputs": [
    {
     "name": "stdout",
     "output_type": "stream",
     "text": [
      "[[[602.88889473 602.99429285 603.08389621 ... 610.64502009 610.64421227\n",
      "   610.6369378 ]]]\n"
     ]
    },
    {
     "data": {
      "text/plain": [
       "<matplotlib.axes._subplots.AxesSubplot at 0x24bcdfa6ef0>"
      ]
     },
     "execution_count": 17,
     "metadata": {},
     "output_type": "execute_result"
    },
    {
     "data": {
      "image/png": "[encoded data removed]",
      "text/plain": [
       "<Figure size 720x288 with 1 Axes>"
      ]
     },
     "metadata": {
      "needs_background": "light"
     },
     "output_type": "display_data"
    }
   ],
   "source": [
    "limb_distance = data['B0346:LSHO'] - data['B0346:LFIN']  # You can also reference the markers using data[:, idx, :] where idx is the number of the marker\n",
    "limb_norm_distance = limb_distance.norm()\n",
    "print(limb_norm_distance)\n",
    "limb_norm_distance.shape\n",
    "limb_norm_distance.plot()\n"
   ]
  },
  {
   "cell_type": "code",
   "execution_count": 18,
   "metadata": {},
   "outputs": [
    {
     "data": {
      "text/plain": [
       "0    62.734223\n",
       "dtype: float64"
      ]
     },
     "execution_count": 18,
     "metadata": {},
     "output_type": "execute_result"
    }
   ],
   "source": [
    "limb = limb_norm_distance.reshape(2232,1)\n",
    "limb = pd.DataFrame(limb)\n",
    "limb = limb.max()\n",
    "limb =limb/10\n",
    "limb"
   ]
  },
  {
   "cell_type": "code",
   "execution_count": 19,
   "metadata": {},
   "outputs": [
    {
     "data": {
      "text/html": [
       "<div>\n",
       "<style scoped>\n",
       "    .dataframe tbody tr th:only-of-type {\n",
       "        vertical-align: middle;\n",
       "    }\n",
       "\n",
       "    .dataframe tbody tr th {\n",
       "        vertical-align: top;\n",
       "    }\n",
       "\n",
       "    .dataframe thead th {\n",
       "        text-align: right;\n",
       "    }\n",
       "</style>\n",
       "<table border=\"1\" class=\"dataframe\">\n",
       "  <thead>\n",
       "    <tr style=\"text-align: right;\">\n",
       "      <th></th>\n",
       "      <th>0</th>\n",
       "    </tr>\n",
       "  </thead>\n",
       "  <tbody>\n",
       "    <tr>\n",
       "      <th>0</th>\n",
       "      <td>602.888895</td>\n",
       "    </tr>\n",
       "    <tr>\n",
       "      <th>1</th>\n",
       "      <td>602.994293</td>\n",
       "    </tr>\n",
       "    <tr>\n",
       "      <th>2</th>\n",
       "      <td>603.083896</td>\n",
       "    </tr>\n",
       "    <tr>\n",
       "      <th>3</th>\n",
       "      <td>603.157320</td>\n",
       "    </tr>\n",
       "    <tr>\n",
       "      <th>4</th>\n",
       "      <td>603.213894</td>\n",
       "    </tr>\n",
       "    <tr>\n",
       "      <th>...</th>\n",
       "      <td>...</td>\n",
       "    </tr>\n",
       "    <tr>\n",
       "      <th>2227</th>\n",
       "      <td>610.629743</td>\n",
       "    </tr>\n",
       "    <tr>\n",
       "      <th>2228</th>\n",
       "      <td>610.639902</td>\n",
       "    </tr>\n",
       "    <tr>\n",
       "      <th>2229</th>\n",
       "      <td>610.645020</td>\n",
       "    </tr>\n",
       "    <tr>\n",
       "      <th>2230</th>\n",
       "      <td>610.644212</td>\n",
       "    </tr>\n",
       "    <tr>\n",
       "      <th>2231</th>\n",
       "      <td>610.636938</td>\n",
       "    </tr>\n",
       "  </tbody>\n",
       "</table>\n",
       "<p>2232 rows × 1 columns</p>\n",
       "</div>"
      ],
      "text/plain": [
       "               0\n",
       "0     602.888895\n",
       "1     602.994293\n",
       "2     603.083896\n",
       "3     603.157320\n",
       "4     603.213894\n",
       "...          ...\n",
       "2227  610.629743\n",
       "2228  610.639902\n",
       "2229  610.645020\n",
       "2230  610.644212\n",
       "2231  610.636938\n",
       "\n",
       "[2232 rows x 1 columns]"
      ]
     },
     "execution_count": 19,
     "metadata": {},
     "output_type": "execute_result"
    }
   ],
   "source": [
    "limbpd = limb_norm_distance.reshape(2232,1)\n",
    "limbpd = pd.DataFrame(limbpd)\n",
    "limbpd\n"
   ]
  },
  {
   "cell_type": "code",
   "execution_count": 20,
   "metadata": {},
   "outputs": [
    {
     "data": {
      "text/plain": [
       "227     0.003166\n",
       "742     0.003111\n",
       "1260    0.002424\n",
       "Name: dfd1, dtype: float64"
      ]
     },
     "execution_count": 20,
     "metadata": {},
     "output_type": "execute_result"
    }
   ],
   "source": [
    "ed = punch['dfd1'].div(62.734223)\n",
    "ed"
   ]
  },
  {
   "cell_type": "code",
   "execution_count": 21,
   "metadata": {},
   "outputs": [
    {
     "data": {
      "text/html": [
       "<div>\n",
       "<style scoped>\n",
       "    .dataframe tbody tr th:only-of-type {\n",
       "        vertical-align: middle;\n",
       "    }\n",
       "\n",
       "    .dataframe tbody tr th {\n",
       "        vertical-align: top;\n",
       "    }\n",
       "\n",
       "    .dataframe thead th {\n",
       "        text-align: right;\n",
       "    }\n",
       "</style>\n",
       "<table border=\"1\" class=\"dataframe\">\n",
       "  <thead>\n",
       "    <tr style=\"text-align: right;\">\n",
       "      <th></th>\n",
       "      <th>t</th>\n",
       "      <th>vB</th>\n",
       "      <th>vP</th>\n",
       "      <th>dfd1</th>\n",
       "      <th>vSho</th>\n",
       "      <th>limbpd</th>\n",
       "    </tr>\n",
       "  </thead>\n",
       "  <tbody>\n",
       "    <tr>\n",
       "      <th>0</th>\n",
       "      <td>0.000</td>\n",
       "      <td>NaN</td>\n",
       "      <td>NaN</td>\n",
       "      <td>1.181826</td>\n",
       "      <td>NaN</td>\n",
       "      <td>602.888895</td>\n",
       "    </tr>\n",
       "    <tr>\n",
       "      <th>1</th>\n",
       "      <td>0.004</td>\n",
       "      <td>0.015426</td>\n",
       "      <td>0.061724</td>\n",
       "      <td>1.181998</td>\n",
       "      <td>0.023217</td>\n",
       "      <td>602.994293</td>\n",
       "    </tr>\n",
       "    <tr>\n",
       "      <th>2</th>\n",
       "      <td>0.008</td>\n",
       "      <td>0.014891</td>\n",
       "      <td>0.057787</td>\n",
       "      <td>1.182146</td>\n",
       "      <td>0.022943</td>\n",
       "      <td>603.083896</td>\n",
       "    </tr>\n",
       "    <tr>\n",
       "      <th>3</th>\n",
       "      <td>0.012</td>\n",
       "      <td>0.015018</td>\n",
       "      <td>0.054014</td>\n",
       "      <td>1.182271</td>\n",
       "      <td>0.022680</td>\n",
       "      <td>603.157320</td>\n",
       "    </tr>\n",
       "    <tr>\n",
       "      <th>4</th>\n",
       "      <td>0.016</td>\n",
       "      <td>0.015659</td>\n",
       "      <td>0.050488</td>\n",
       "      <td>1.182370</td>\n",
       "      <td>0.022455</td>\n",
       "      <td>603.213894</td>\n",
       "    </tr>\n",
       "    <tr>\n",
       "      <th>...</th>\n",
       "      <td>...</td>\n",
       "      <td>...</td>\n",
       "      <td>...</td>\n",
       "      <td>...</td>\n",
       "      <td>...</td>\n",
       "      <td>...</td>\n",
       "    </tr>\n",
       "    <tr>\n",
       "      <th>2227</th>\n",
       "      <td>8.908</td>\n",
       "      <td>0.423271</td>\n",
       "      <td>0.018660</td>\n",
       "      <td>1.438713</td>\n",
       "      <td>0.013814</td>\n",
       "      <td>610.629743</td>\n",
       "    </tr>\n",
       "    <tr>\n",
       "      <th>2228</th>\n",
       "      <td>8.912</td>\n",
       "      <td>0.422665</td>\n",
       "      <td>0.022740</td>\n",
       "      <td>1.440005</td>\n",
       "      <td>0.013877</td>\n",
       "      <td>610.639902</td>\n",
       "    </tr>\n",
       "    <tr>\n",
       "      <th>2229</th>\n",
       "      <td>8.916</td>\n",
       "      <td>0.422258</td>\n",
       "      <td>0.027594</td>\n",
       "      <td>1.441286</td>\n",
       "      <td>0.014007</td>\n",
       "      <td>610.645020</td>\n",
       "    </tr>\n",
       "    <tr>\n",
       "      <th>2230</th>\n",
       "      <td>8.920</td>\n",
       "      <td>0.421875</td>\n",
       "      <td>0.032912</td>\n",
       "      <td>1.442553</td>\n",
       "      <td>0.014210</td>\n",
       "      <td>610.644212</td>\n",
       "    </tr>\n",
       "    <tr>\n",
       "      <th>2231</th>\n",
       "      <td>8.924</td>\n",
       "      <td>NaN</td>\n",
       "      <td>NaN</td>\n",
       "      <td>1.443806</td>\n",
       "      <td>NaN</td>\n",
       "      <td>610.636938</td>\n",
       "    </tr>\n",
       "  </tbody>\n",
       "</table>\n",
       "<p>2232 rows × 6 columns</p>\n",
       "</div>"
      ],
      "text/plain": [
       "          t        vB        vP      dfd1      vSho      limbpd\n",
       "0     0.000       NaN       NaN  1.181826       NaN  602.888895\n",
       "1     0.004  0.015426  0.061724  1.181998  0.023217  602.994293\n",
       "2     0.008  0.014891  0.057787  1.182146  0.022943  603.083896\n",
       "3     0.012  0.015018  0.054014  1.182271  0.022680  603.157320\n",
       "4     0.016  0.015659  0.050488  1.182370  0.022455  603.213894\n",
       "...     ...       ...       ...       ...       ...         ...\n",
       "2227  8.908  0.423271  0.018660  1.438713  0.013814  610.629743\n",
       "2228  8.912  0.422665  0.022740  1.440005  0.013877  610.639902\n",
       "2229  8.916  0.422258  0.027594  1.441286  0.014007  610.645020\n",
       "2230  8.920  0.421875  0.032912  1.442553  0.014210  610.644212\n",
       "2231  8.924       NaN       NaN  1.443806       NaN  610.636938\n",
       "\n",
       "[2232 rows x 6 columns]"
      ]
     },
     "execution_count": 21,
     "metadata": {},
     "output_type": "execute_result"
    }
   ],
   "source": [
    "df_all_cols2 = pd.concat([t, vB, vP, dfd1, vSho, limbpd ], axis = 1)\n",
    "df_all_cols2.columns =['t', 'vB', 'vP', 'dfd1', 'vSho', 'limbpd']\n",
    "df_all_cols2"
   ]
  },
  {
   "cell_type": "code",
   "execution_count": 22,
   "metadata": {},
   "outputs": [
    {
     "data": {
      "image/png": "[encoded data removed]",
      "text/plain": [
       "<Figure size 432x288 with 1 Axes>"
      ]
     },
     "metadata": {
      "needs_background": "light"
     },
     "output_type": "display_data"
    }
   ],
   "source": [
    "import matplotlib.pyplot as plt\n",
    "peaks, _ = find_peaks(df_all_cols['vP'], height=6.0)\n",
    "plt.plot(df_all_cols['vP'])\n",
    "plt.plot(peaks, df_all_cols['vP'][peaks], \"x\")\n",
    "plt.show()"
   ]
  },
  {
   "cell_type": "code",
   "execution_count": 23,
   "metadata": {},
   "outputs": [
    {
     "data": {
      "text/html": [
       "<div>\n",
       "<style scoped>\n",
       "    .dataframe tbody tr th:only-of-type {\n",
       "        vertical-align: middle;\n",
       "    }\n",
       "\n",
       "    .dataframe tbody tr th {\n",
       "        vertical-align: top;\n",
       "    }\n",
       "\n",
       "    .dataframe thead th {\n",
       "        text-align: right;\n",
       "    }\n",
       "</style>\n",
       "<table border=\"1\" class=\"dataframe\">\n",
       "  <thead>\n",
       "    <tr style=\"text-align: right;\">\n",
       "      <th></th>\n",
       "      <th>t</th>\n",
       "      <th>vP</th>\n",
       "      <th>dfd1</th>\n",
       "      <th>limbpd</th>\n",
       "    </tr>\n",
       "  </thead>\n",
       "  <tbody>\n",
       "    <tr>\n",
       "      <th>227</th>\n",
       "      <td>0.908</td>\n",
       "      <td>7.628797</td>\n",
       "      <td>0.198604</td>\n",
       "      <td>401.844561</td>\n",
       "    </tr>\n",
       "    <tr>\n",
       "      <th>742</th>\n",
       "      <td>2.968</td>\n",
       "      <td>7.923945</td>\n",
       "      <td>0.195136</td>\n",
       "      <td>406.883520</td>\n",
       "    </tr>\n",
       "    <tr>\n",
       "      <th>1260</th>\n",
       "      <td>5.040</td>\n",
       "      <td>8.222861</td>\n",
       "      <td>0.152095</td>\n",
       "      <td>420.872886</td>\n",
       "    </tr>\n",
       "  </tbody>\n",
       "</table>\n",
       "</div>"
      ],
      "text/plain": [
       "          t        vP      dfd1      limbpd\n",
       "227   0.908  7.628797  0.198604  401.844561\n",
       "742   2.968  7.923945  0.195136  406.883520\n",
       "1260  5.040  8.222861  0.152095  420.872886"
      ]
     },
     "execution_count": 23,
     "metadata": {},
     "output_type": "execute_result"
    }
   ],
   "source": [
    "punch2 =  df_all_cols2.iloc[peaks,:]\n",
    "punch2[[\"t\", \"vP\", \"dfd1\", \"limbpd\"]]"
   ]
  },
  {
   "cell_type": "code",
   "execution_count": null,
   "metadata": {},
   "outputs": [],
   "source": []
  }
 ],
 "metadata": {
  "kernelspec": {
   "display_name": "Python 3",
   "language": "python",
   "name": "python3"
  },
  "language_info": {
   "codemirror_mode": {
    "name": "ipython",
    "version": 3
   },
   "file_extension": ".py",
   "mimetype": "text/x-python",
   "name": "python",
   "nbconvert_exporter": "python",
   "pygments_lexer": "ipython3",
   "version": "3.7.3"
  }
 },
 "nbformat": 4,
 "nbformat_minor": 4
}
